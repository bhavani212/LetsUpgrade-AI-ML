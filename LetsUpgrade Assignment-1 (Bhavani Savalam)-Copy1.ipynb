{
 "cells": [
  {
   "cell_type": "markdown",
   "metadata": {},
   "source": [
    "1) Write a program to subtract two complex numbers in Python."
   ]
  },
  {
   "cell_type": "code",
   "execution_count": 1,
   "metadata": {},
   "outputs": [
    {
     "name": "stdout",
     "output_type": "stream",
     "text": [
      "(1+16j)\n"
     ]
    }
   ],
   "source": [
    "a=4+7j\n",
    "b=3-9j\n",
    "c=(a-b)\n",
    "print(c)"
   ]
  },
  {
   "cell_type": "markdown",
   "metadata": {},
   "source": [
    "2) Write a program to find the fourth root of a number."
   ]
  },
  {
   "cell_type": "code",
   "execution_count": 4,
   "metadata": {},
   "outputs": [
    {
     "name": "stdout",
     "output_type": "stream",
     "text": [
      "20736\n"
     ]
    }
   ],
   "source": [
    "a=12**4\n",
    "print(a)\n"
   ]
  },
  {
   "cell_type": "markdown",
   "metadata": {},
   "source": [
    "3) Write a program to swap two numbers in Python with the help of a temporary variable.\n"
   ]
  },
  {
   "cell_type": "code",
   "execution_count": 5,
   "metadata": {},
   "outputs": [
    {
     "name": "stdout",
     "output_type": "stream",
     "text": [
      "4 5\n"
     ]
    }
   ],
   "source": [
    "x=5\n",
    "y=4\n",
    "temp=x\n",
    "#temporary variable (temp)\n",
    "x=y\n",
    "y=temp\n",
    "print(x,y)\n"
   ]
  },
  {
   "cell_type": "markdown",
   "metadata": {},
   "source": [
    "4) Write a program to swap two numbers in Python without using a temporary variable."
   ]
  },
  {
   "cell_type": "code",
   "execution_count": 6,
   "metadata": {},
   "outputs": [
    {
     "name": "stdout",
     "output_type": "stream",
     "text": [
      "20 10\n"
     ]
    }
   ],
   "source": [
    "x=10\n",
    "y=20\n",
    "x , y= y , x\n",
    "#without temporary variable\n",
    "print(x,y)"
   ]
  },
  {
   "cell_type": "markdown",
   "metadata": {},
   "source": [
    "5) Write a program to convert fahrenheit to kelvin and celsius both.\n"
   ]
  },
  {
   "cell_type": "code",
   "execution_count": 4,
   "metadata": {},
   "outputs": [
    {
     "name": "stdout",
     "output_type": "stream",
     "text": [
      "255.92777777777778\n",
      "-17.22222222222222\n"
     ]
    }
   ],
   "source": [
    "x=1\n",
    "#converting 1 fahrenheit to kelvin\n",
    "k= (x + 459.67)*5/9\n",
    "print(k)\n",
    "#converting 1 fahrenheit to celsius\n",
    "c=(x - 32)*5/9\n",
    "print(c)"
   ]
  },
  {
   "cell_type": "markdown",
   "metadata": {},
   "source": [
    "6) Write a program to demonstrate all the available data types in Python. Hint: Use type() function."
   ]
  },
  {
   "cell_type": "code",
   "execution_count": 6,
   "metadata": {},
   "outputs": [
    {
     "name": "stdout",
     "output_type": "stream",
     "text": [
      "<class 'int'>\n",
      "<class 'float'>\n",
      "<class 'complex'>\n",
      "<class 'str'>\n",
      "<class 'float'>\n",
      "<class 'tuple'>\n",
      "<class 'range'>\n",
      "<class 'dict'>\n",
      "<class 'set'>\n",
      "<class 'set'>\n",
      "<class 'bool'>\n",
      "<class 'bytes'>\n",
      "<class 'bytearray'>\n",
      "<class 'memoryview'>\n"
     ]
    }
   ],
   "source": [
    "#datatypes\n",
    "#numeric types\n",
    "#1 int\n",
    "x=2\n",
    "print(type(x))\n",
    "#2 float\n",
    "y=10.7\n",
    "print(type(y))\n",
    "#3 complex\n",
    "a=10+7j\n",
    "print(type(a))\n",
    "#text type\n",
    "#1 string\n",
    "b= \"bhavani\"\n",
    "print(type(b))\n",
    "#sequence type\n",
    "#1 list\n",
    "c = [\"a\", \"b\", \"c\"]\n",
    "print(type(y))\n",
    "#tuple\n",
    "d=(\"lets\", \"up\", \"grade\")\n",
    "print(type(d))\n",
    "#range\n",
    "e=range(12)\n",
    "print(type(e))\n",
    "#mapping type\n",
    "#1 dict\n",
    "f = {\"name\" : \"bhavani\", \"course\" : \"AI-ML\"}\n",
    "print(type(f))\n",
    "#set types\n",
    "#1 set\n",
    "g={\"1\", \"2\", \"3\"}\n",
    "print(type(g))\n",
    "#2 frozen set\n",
    "h=({\"11\",\"22\",\"33\"})\n",
    "print(type(h))\n",
    "#boolean type\n",
    "i=True\n",
    "print(type(i))\n",
    "#binary types\n",
    "#1 bytes\n",
    "j=b\"bhavani\"\n",
    "print(type(j))\n",
    "#2 bytearray\n",
    "k=bytearray(10)\n",
    "print(type(k))\n",
    "#3 memoryview\n",
    "l=memoryview(bytes(5))\n",
    "print(type(l))\n"
   ]
  },
  {
   "cell_type": "markdown",
   "metadata": {},
   "source": [
    "7) Create a Markdown cell in jupyter and list the steps discussed in the session by Dr. DarshanIngle sir to create Github profile and upload Githubs Assignment link."
   ]
  },
  {
   "cell_type": "markdown",
   "metadata": {},
   "source": [
    "__Markdown is a lightweight and popular Markup language which is a writing standard for data scientists and analysts. It is often converted into the corresponding HTML which by the Markdown processor which allows it to be easily shared between different devices and people.__\n",
    "Markdown cell syntax which is supported by Jupyter Notebook are:\n",
    "1) Headings\n",
    "The Headings starts with '#,' i.e., hash symbol followed by the space, and there are six Headings with the largest heading only using one hash symbol and the smallest titles using six hash symbols.\n",
    "\n",
    "# (Header 1, title)\n",
    "\n",
    "## (Header 2, major headings)\n",
    "\n",
    "### (Header 3, subheadings)\n",
    "\n",
    "#### (Header 4)\n",
    "\n",
    "##### (Header 5)\n",
    "###### (Header 6)``\n",
    "2) Bold and Italic Text\n",
    "You can use <b> tags, '**' i.e. 'double asterisk' or '__' i.e. 'double underscore' to get bold text with the following syntax.\n",
    "** hi\n",
    "__This is bold text    STEP 3: Then jupyter notebook will be opened so after at the right corner there will be a layout of multiple options and \n",
    ".\n",
    ".\n",
    ".\n",
    ".\n",
    "__CREATING THE MARKDOWN CELL IN JUPYTER__\n",
    "    STEP 1: Download the anaconda navigator IDE from internet and install it in your computer.\n",
    "    STEP 2: After installing open the anaconda navigator and select the jupyter notebook and click on launch.Then the jupyter       notebook will be opened, then on the top right side it will be having \"new\", click on that and select \"python 3\".\n",
    "    single of code by default of  and we can select any one from that code or Markdown or raw NBconvert or heading, now we         select markdown.\n",
    "    STEP 4: The markdown cell is created and now we can edit the text in different styles.\n",
    "    \n",
    "    "
   ]
  },
  {
   "cell_type": "markdown",
   "metadata": {},
   "source": [
    "__HOW TO CREATE THE GITHUB PROFILE AND UPLOAD GITHUB'S ASSIGNMENTS LINK__\n",
    "\n",
    "STEP:1 Open Github in the browser and sign up to the github and create an account.\n",
    "STEP:2 After creating the account now we should create a repository.\n",
    "STEP:3 create the repository and upload the files , we should upload the files by drag and drop method."
   ]
  }
 ],
 "metadata": {
  "kernelspec": {
   "display_name": "Python 3",
   "language": "python",
   "name": "python3"
  },
  "language_info": {
   "codemirror_mode": {
    "name": "ipython",
    "version": 3
   },
   "file_extension": ".py",
   "mimetype": "text/x-python",
   "name": "python",
   "nbconvert_exporter": "python",
   "pygments_lexer": "ipython3",
   "version": "3.7.6"
  }
 },
 "nbformat": 4,
 "nbformat_minor": 4
}
